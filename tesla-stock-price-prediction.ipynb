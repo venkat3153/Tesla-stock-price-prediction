{
 "cells": [
  {
   "cell_type": "markdown",
   "metadata": {},
   "source": [
    "# Tesla Stock Price Prediction"
   ]
  },
  {
   "cell_type": "markdown",
   "metadata": {},
   "source": [
    "### Understanding Data"
   ]
  },
  {
   "cell_type": "code",
   "execution_count": 76,
   "metadata": {
    "execution": {
     "iopub.execute_input": "2022-10-23T11:49:58.451268Z",
     "iopub.status.busy": "2022-10-23T11:49:58.450873Z",
     "iopub.status.idle": "2022-10-23T11:49:58.458389Z",
     "shell.execute_reply": "2022-10-23T11:49:58.457324Z",
     "shell.execute_reply.started": "2022-10-23T11:49:58.451238Z"
    }
   },
   "outputs": [],
   "source": [
    "import numpy as np\n",
    "import pandas as pd\n",
    "import matplotlib.pyplot as plt\n",
    "\n",
    "import warnings\n",
    "warnings.filterwarnings(\"ignore\")"
   ]
  },
  {
   "cell_type": "code",
   "execution_count": 77,
   "metadata": {
    "execution": {
     "iopub.execute_input": "2022-10-23T11:49:58.460685Z",
     "iopub.status.busy": "2022-10-23T11:49:58.459929Z",
     "iopub.status.idle": "2022-10-23T11:49:58.504975Z",
     "shell.execute_reply": "2022-10-23T11:49:58.503498Z",
     "shell.execute_reply.started": "2022-10-23T11:49:58.460649Z"
    }
   },
   "outputs": [],
   "source": [
    "data=pd.read_csv(\"F:\\TSLA (1).csv\")"
   ]
  },
  {
   "cell_type": "code",
   "execution_count": 78,
   "metadata": {
    "execution": {
     "iopub.execute_input": "2022-10-23T11:49:58.507039Z",
     "iopub.status.busy": "2022-10-23T11:49:58.506385Z",
     "iopub.status.idle": "2022-10-23T11:49:58.534562Z",
     "shell.execute_reply": "2022-10-23T11:49:58.533354Z",
     "shell.execute_reply.started": "2022-10-23T11:49:58.506989Z"
    }
   },
   "outputs": [
    {
     "data": {
      "text/html": [
       "<div>\n",
       "<style scoped>\n",
       "    .dataframe tbody tr th:only-of-type {\n",
       "        vertical-align: middle;\n",
       "    }\n",
       "\n",
       "    .dataframe tbody tr th {\n",
       "        vertical-align: top;\n",
       "    }\n",
       "\n",
       "    .dataframe thead th {\n",
       "        text-align: right;\n",
       "    }\n",
       "</style>\n",
       "<table border=\"1\" class=\"dataframe\">\n",
       "  <thead>\n",
       "    <tr style=\"text-align: right;\">\n",
       "      <th></th>\n",
       "      <th>Date</th>\n",
       "      <th>Open</th>\n",
       "      <th>High</th>\n",
       "      <th>Low</th>\n",
       "      <th>Close</th>\n",
       "      <th>Adj Close</th>\n",
       "      <th>Volume</th>\n",
       "    </tr>\n",
       "  </thead>\n",
       "  <tbody>\n",
       "    <tr>\n",
       "      <th>0</th>\n",
       "      <td>2010-06-29</td>\n",
       "      <td>19.000000</td>\n",
       "      <td>25.00</td>\n",
       "      <td>17.540001</td>\n",
       "      <td>23.889999</td>\n",
       "      <td>23.889999</td>\n",
       "      <td>18766300</td>\n",
       "    </tr>\n",
       "    <tr>\n",
       "      <th>1</th>\n",
       "      <td>2010-06-30</td>\n",
       "      <td>25.790001</td>\n",
       "      <td>30.42</td>\n",
       "      <td>23.299999</td>\n",
       "      <td>23.830000</td>\n",
       "      <td>23.830000</td>\n",
       "      <td>17187100</td>\n",
       "    </tr>\n",
       "    <tr>\n",
       "      <th>2</th>\n",
       "      <td>2010-07-01</td>\n",
       "      <td>25.000000</td>\n",
       "      <td>25.92</td>\n",
       "      <td>20.270000</td>\n",
       "      <td>21.959999</td>\n",
       "      <td>21.959999</td>\n",
       "      <td>8218800</td>\n",
       "    </tr>\n",
       "    <tr>\n",
       "      <th>3</th>\n",
       "      <td>2010-07-02</td>\n",
       "      <td>23.000000</td>\n",
       "      <td>23.10</td>\n",
       "      <td>18.709999</td>\n",
       "      <td>19.200001</td>\n",
       "      <td>19.200001</td>\n",
       "      <td>5139800</td>\n",
       "    </tr>\n",
       "    <tr>\n",
       "      <th>4</th>\n",
       "      <td>2010-07-06</td>\n",
       "      <td>20.000000</td>\n",
       "      <td>20.00</td>\n",
       "      <td>15.830000</td>\n",
       "      <td>16.110001</td>\n",
       "      <td>16.110001</td>\n",
       "      <td>6866900</td>\n",
       "    </tr>\n",
       "  </tbody>\n",
       "</table>\n",
       "</div>"
      ],
      "text/plain": [
       "         Date       Open   High        Low      Close  Adj Close    Volume\n",
       "0  2010-06-29  19.000000  25.00  17.540001  23.889999  23.889999  18766300\n",
       "1  2010-06-30  25.790001  30.42  23.299999  23.830000  23.830000  17187100\n",
       "2  2010-07-01  25.000000  25.92  20.270000  21.959999  21.959999   8218800\n",
       "3  2010-07-02  23.000000  23.10  18.709999  19.200001  19.200001   5139800\n",
       "4  2010-07-06  20.000000  20.00  15.830000  16.110001  16.110001   6866900"
      ]
     },
     "execution_count": 78,
     "metadata": {},
     "output_type": "execute_result"
    }
   ],
   "source": [
    "data.head()"
   ]
  },
  {
   "cell_type": "code",
   "execution_count": 79,
   "metadata": {
    "execution": {
     "iopub.execute_input": "2022-10-23T11:49:58.538232Z",
     "iopub.status.busy": "2022-10-23T11:49:58.537101Z",
     "iopub.status.idle": "2022-10-23T11:49:58.546313Z",
     "shell.execute_reply": "2022-10-23T11:49:58.544787Z",
     "shell.execute_reply.started": "2022-10-23T11:49:58.538183Z"
    }
   },
   "outputs": [],
   "source": [
    "def check_df(dataframe,head=5):\n",
    "    print(\"#################### Shape #################### \")\n",
    "    print(dataframe.shape)\n",
    "    print(\"#################### Types #################### \")\n",
    "    print(dataframe.dtypes)\n",
    "    print(\"#################### Head #################### \")\n",
    "    print(dataframe.head(head))\n",
    "    print(\"#################### Tail #################### \")\n",
    "    print(dataframe.dtypes)\n",
    "    print(\"#################### NA #################### \")\n",
    "    print(dataframe.isnull().sum())\n",
    "    print(\"#################### Quantiles #################### \")\n",
    "    print(dataframe.quantile([0,0.5,0.50,0.95,0.99,1]).T)\n"
   ]
  },
  {
   "cell_type": "code",
   "execution_count": 80,
   "metadata": {
    "execution": {
     "iopub.execute_input": "2022-10-23T11:49:58.548486Z",
     "iopub.status.busy": "2022-10-23T11:49:58.548069Z",
     "iopub.status.idle": "2022-10-23T11:49:58.581514Z",
     "shell.execute_reply": "2022-10-23T11:49:58.580502Z",
     "shell.execute_reply.started": "2022-10-23T11:49:58.548450Z"
    }
   },
   "outputs": [
    {
     "name": "stdout",
     "output_type": "stream",
     "text": [
      "#################### Shape #################### \n",
      "(2416, 7)\n",
      "#################### Types #################### \n",
      "Date          object\n",
      "Open         float64\n",
      "High         float64\n",
      "Low          float64\n",
      "Close        float64\n",
      "Adj Close    float64\n",
      "Volume         int64\n",
      "dtype: object\n",
      "#################### Head #################### \n",
      "         Date       Open   High        Low      Close  Adj Close    Volume\n",
      "0  2010-06-29  19.000000  25.00  17.540001  23.889999  23.889999  18766300\n",
      "1  2010-06-30  25.790001  30.42  23.299999  23.830000  23.830000  17187100\n",
      "2  2010-07-01  25.000000  25.92  20.270000  21.959999  21.959999   8218800\n",
      "3  2010-07-02  23.000000  23.10  18.709999  19.200001  19.200001   5139800\n",
      "4  2010-07-06  20.000000  20.00  15.830000  16.110001  16.110001   6866900\n",
      "#################### Tail #################### \n",
      "Date          object\n",
      "Open         float64\n",
      "High         float64\n",
      "Low          float64\n",
      "Close        float64\n",
      "Adj Close    float64\n",
      "Volume         int64\n",
      "dtype: object\n",
      "#################### NA #################### \n",
      "Date         0\n",
      "Open         0\n",
      "High         0\n",
      "Low          0\n",
      "Close        0\n",
      "Adj Close    0\n",
      "Volume       0\n",
      "dtype: int64\n",
      "#################### Quantiles #################### \n",
      "                    0.00          0.50          0.50          0.95  \\\n",
      "Open           16.139999  2.130350e+02  2.130350e+02  3.519100e+02   \n",
      "High           16.629999  2.167450e+02  2.167450e+02  3.567500e+02   \n",
      "Low            14.980000  2.088700e+02  2.088700e+02  3.460250e+02   \n",
      "Close          15.800000  2.129600e+02  2.129600e+02  3.511675e+02   \n",
      "Adj Close      15.800000  2.129600e+02  2.129600e+02  3.511675e+02   \n",
      "Volume     118500.000000  4.578400e+06  4.578400e+06  1.476090e+07   \n",
      "\n",
      "                   0.99          1.00  \n",
      "Open       4.235790e+02  6.736900e+02  \n",
      "High       4.284705e+02  7.861400e+02  \n",
      "Low        4.122865e+02  6.735200e+02  \n",
      "Close      4.243455e+02  7.800000e+02  \n",
      "Adj Close  4.243455e+02  7.800000e+02  \n",
      "Volume     2.459959e+07  4.706500e+07  \n"
     ]
    }
   ],
   "source": [
    "check_df(data)"
   ]
  },
  {
   "cell_type": "markdown",
   "metadata": {},
   "source": [
    "we need to change the date variable"
   ]
  },
  {
   "cell_type": "code",
   "execution_count": 81,
   "metadata": {
    "execution": {
     "iopub.execute_input": "2022-10-23T11:49:58.583456Z",
     "iopub.status.busy": "2022-10-23T11:49:58.583028Z",
     "iopub.status.idle": "2022-10-23T11:49:58.595558Z",
     "shell.execute_reply": "2022-10-23T11:49:58.594510Z",
     "shell.execute_reply.started": "2022-10-23T11:49:58.583392Z"
    }
   },
   "outputs": [],
   "source": [
    "data[\"Date\"]=pd.to_datetime(data[\"Date\"])"
   ]
  },
  {
   "cell_type": "code",
   "execution_count": 82,
   "metadata": {
    "execution": {
     "iopub.execute_input": "2022-10-23T11:49:58.597921Z",
     "iopub.status.busy": "2022-10-23T11:49:58.597207Z",
     "iopub.status.idle": "2022-10-23T11:49:58.615892Z",
     "shell.execute_reply": "2022-10-23T11:49:58.614564Z",
     "shell.execute_reply.started": "2022-10-23T11:49:58.597879Z"
    }
   },
   "outputs": [
    {
     "data": {
      "text/html": [
       "<div>\n",
       "<style scoped>\n",
       "    .dataframe tbody tr th:only-of-type {\n",
       "        vertical-align: middle;\n",
       "    }\n",
       "\n",
       "    .dataframe tbody tr th {\n",
       "        vertical-align: top;\n",
       "    }\n",
       "\n",
       "    .dataframe thead th {\n",
       "        text-align: right;\n",
       "    }\n",
       "</style>\n",
       "<table border=\"1\" class=\"dataframe\">\n",
       "  <thead>\n",
       "    <tr style=\"text-align: right;\">\n",
       "      <th></th>\n",
       "      <th>Date</th>\n",
       "      <th>Open</th>\n",
       "      <th>High</th>\n",
       "      <th>Low</th>\n",
       "      <th>Close</th>\n",
       "      <th>Adj Close</th>\n",
       "      <th>Volume</th>\n",
       "    </tr>\n",
       "  </thead>\n",
       "  <tbody>\n",
       "    <tr>\n",
       "      <th>0</th>\n",
       "      <td>2010-06-29</td>\n",
       "      <td>19.000000</td>\n",
       "      <td>25.00</td>\n",
       "      <td>17.540001</td>\n",
       "      <td>23.889999</td>\n",
       "      <td>23.889999</td>\n",
       "      <td>18766300</td>\n",
       "    </tr>\n",
       "    <tr>\n",
       "      <th>1</th>\n",
       "      <td>2010-06-30</td>\n",
       "      <td>25.790001</td>\n",
       "      <td>30.42</td>\n",
       "      <td>23.299999</td>\n",
       "      <td>23.830000</td>\n",
       "      <td>23.830000</td>\n",
       "      <td>17187100</td>\n",
       "    </tr>\n",
       "    <tr>\n",
       "      <th>2</th>\n",
       "      <td>2010-07-01</td>\n",
       "      <td>25.000000</td>\n",
       "      <td>25.92</td>\n",
       "      <td>20.270000</td>\n",
       "      <td>21.959999</td>\n",
       "      <td>21.959999</td>\n",
       "      <td>8218800</td>\n",
       "    </tr>\n",
       "    <tr>\n",
       "      <th>3</th>\n",
       "      <td>2010-07-02</td>\n",
       "      <td>23.000000</td>\n",
       "      <td>23.10</td>\n",
       "      <td>18.709999</td>\n",
       "      <td>19.200001</td>\n",
       "      <td>19.200001</td>\n",
       "      <td>5139800</td>\n",
       "    </tr>\n",
       "    <tr>\n",
       "      <th>4</th>\n",
       "      <td>2010-07-06</td>\n",
       "      <td>20.000000</td>\n",
       "      <td>20.00</td>\n",
       "      <td>15.830000</td>\n",
       "      <td>16.110001</td>\n",
       "      <td>16.110001</td>\n",
       "      <td>6866900</td>\n",
       "    </tr>\n",
       "  </tbody>\n",
       "</table>\n",
       "</div>"
      ],
      "text/plain": [
       "        Date       Open   High        Low      Close  Adj Close    Volume\n",
       "0 2010-06-29  19.000000  25.00  17.540001  23.889999  23.889999  18766300\n",
       "1 2010-06-30  25.790001  30.42  23.299999  23.830000  23.830000  17187100\n",
       "2 2010-07-01  25.000000  25.92  20.270000  21.959999  21.959999   8218800\n",
       "3 2010-07-02  23.000000  23.10  18.709999  19.200001  19.200001   5139800\n",
       "4 2010-07-06  20.000000  20.00  15.830000  16.110001  16.110001   6866900"
      ]
     },
     "execution_count": 82,
     "metadata": {},
     "output_type": "execute_result"
    }
   ],
   "source": [
    "data.head()"
   ]
  },
  {
   "cell_type": "markdown",
   "metadata": {},
   "source": [
    "Preparing the Data"
   ]
  },
  {
   "cell_type": "code",
   "execution_count": 83,
   "metadata": {
    "execution": {
     "iopub.execute_input": "2022-10-23T11:49:58.618016Z",
     "iopub.status.busy": "2022-10-23T11:49:58.617645Z",
     "iopub.status.idle": "2022-10-23T11:49:58.629094Z",
     "shell.execute_reply": "2022-10-23T11:49:58.627992Z",
     "shell.execute_reply.started": "2022-10-23T11:49:58.617984Z"
    }
   },
   "outputs": [],
   "source": [
    "tesla_data=data[[\"Date\",\"Close\"]]"
   ]
  },
  {
   "cell_type": "code",
   "execution_count": 84,
   "metadata": {
    "execution": {
     "iopub.execute_input": "2022-10-23T11:49:58.632571Z",
     "iopub.status.busy": "2022-10-23T11:49:58.631916Z",
     "iopub.status.idle": "2022-10-23T11:49:58.649547Z",
     "shell.execute_reply": "2022-10-23T11:49:58.648334Z",
     "shell.execute_reply.started": "2022-10-23T11:49:58.632532Z"
    }
   },
   "outputs": [
    {
     "data": {
      "text/html": [
       "<div>\n",
       "<style scoped>\n",
       "    .dataframe tbody tr th:only-of-type {\n",
       "        vertical-align: middle;\n",
       "    }\n",
       "\n",
       "    .dataframe tbody tr th {\n",
       "        vertical-align: top;\n",
       "    }\n",
       "\n",
       "    .dataframe thead th {\n",
       "        text-align: right;\n",
       "    }\n",
       "</style>\n",
       "<table border=\"1\" class=\"dataframe\">\n",
       "  <thead>\n",
       "    <tr style=\"text-align: right;\">\n",
       "      <th></th>\n",
       "      <th>Date</th>\n",
       "      <th>Close</th>\n",
       "    </tr>\n",
       "  </thead>\n",
       "  <tbody>\n",
       "    <tr>\n",
       "      <th>0</th>\n",
       "      <td>2010-06-29</td>\n",
       "      <td>23.889999</td>\n",
       "    </tr>\n",
       "    <tr>\n",
       "      <th>1</th>\n",
       "      <td>2010-06-30</td>\n",
       "      <td>23.830000</td>\n",
       "    </tr>\n",
       "    <tr>\n",
       "      <th>2</th>\n",
       "      <td>2010-07-01</td>\n",
       "      <td>21.959999</td>\n",
       "    </tr>\n",
       "    <tr>\n",
       "      <th>3</th>\n",
       "      <td>2010-07-02</td>\n",
       "      <td>19.200001</td>\n",
       "    </tr>\n",
       "    <tr>\n",
       "      <th>4</th>\n",
       "      <td>2010-07-06</td>\n",
       "      <td>16.110001</td>\n",
       "    </tr>\n",
       "  </tbody>\n",
       "</table>\n",
       "</div>"
      ],
      "text/plain": [
       "        Date      Close\n",
       "0 2010-06-29  23.889999\n",
       "1 2010-06-30  23.830000\n",
       "2 2010-07-01  21.959999\n",
       "3 2010-07-02  19.200001\n",
       "4 2010-07-06  16.110001"
      ]
     },
     "execution_count": 84,
     "metadata": {},
     "output_type": "execute_result"
    }
   ],
   "source": [
    "tesla_data.head()"
   ]
  },
  {
   "cell_type": "code",
   "execution_count": 85,
   "metadata": {
    "execution": {
     "iopub.execute_input": "2022-10-23T11:49:58.651610Z",
     "iopub.status.busy": "2022-10-23T11:49:58.651010Z",
     "iopub.status.idle": "2022-10-23T11:49:58.661898Z",
     "shell.execute_reply": "2022-10-23T11:49:58.660692Z",
     "shell.execute_reply.started": "2022-10-23T11:49:58.651575Z"
    }
   },
   "outputs": [
    {
     "name": "stdout",
     "output_type": "stream",
     "text": [
      "Min. Tarih: 2010-06-29 00:00:00\n",
      "Max. Tarih: 2020-02-03 00:00:00\n"
     ]
    }
   ],
   "source": [
    "print(\"Min. Tarih:\",tesla_data[\"Date\"].min())\n",
    "print(\"Max. Tarih:\",tesla_data[\"Date\"].max())"
   ]
  },
  {
   "cell_type": "code",
   "execution_count": 86,
   "metadata": {
    "execution": {
     "iopub.execute_input": "2022-10-23T11:49:58.705324Z",
     "iopub.status.busy": "2022-10-23T11:49:58.703915Z",
     "iopub.status.idle": "2022-10-23T11:49:58.711374Z",
     "shell.execute_reply": "2022-10-23T11:49:58.709970Z",
     "shell.execute_reply.started": "2022-10-23T11:49:58.705266Z"
    }
   },
   "outputs": [],
   "source": [
    "tesla_data.index=tesla_data[\"Date\"]"
   ]
  },
  {
   "cell_type": "code",
   "execution_count": 87,
   "metadata": {
    "execution": {
     "iopub.execute_input": "2022-10-23T11:49:58.714545Z",
     "iopub.status.busy": "2022-10-23T11:49:58.714061Z",
     "iopub.status.idle": "2022-10-23T11:49:58.737570Z",
     "shell.execute_reply": "2022-10-23T11:49:58.736249Z",
     "shell.execute_reply.started": "2022-10-23T11:49:58.714499Z"
    }
   },
   "outputs": [
    {
     "data": {
      "text/html": [
       "<div>\n",
       "<style scoped>\n",
       "    .dataframe tbody tr th:only-of-type {\n",
       "        vertical-align: middle;\n",
       "    }\n",
       "\n",
       "    .dataframe tbody tr th {\n",
       "        vertical-align: top;\n",
       "    }\n",
       "\n",
       "    .dataframe thead th {\n",
       "        text-align: right;\n",
       "    }\n",
       "</style>\n",
       "<table border=\"1\" class=\"dataframe\">\n",
       "  <thead>\n",
       "    <tr style=\"text-align: right;\">\n",
       "      <th></th>\n",
       "      <th>Date</th>\n",
       "      <th>Close</th>\n",
       "    </tr>\n",
       "    <tr>\n",
       "      <th>Date</th>\n",
       "      <th></th>\n",
       "      <th></th>\n",
       "    </tr>\n",
       "  </thead>\n",
       "  <tbody>\n",
       "    <tr>\n",
       "      <th>2010-06-29</th>\n",
       "      <td>2010-06-29</td>\n",
       "      <td>23.889999</td>\n",
       "    </tr>\n",
       "    <tr>\n",
       "      <th>2010-06-30</th>\n",
       "      <td>2010-06-30</td>\n",
       "      <td>23.830000</td>\n",
       "    </tr>\n",
       "    <tr>\n",
       "      <th>2010-07-01</th>\n",
       "      <td>2010-07-01</td>\n",
       "      <td>21.959999</td>\n",
       "    </tr>\n",
       "    <tr>\n",
       "      <th>2010-07-02</th>\n",
       "      <td>2010-07-02</td>\n",
       "      <td>19.200001</td>\n",
       "    </tr>\n",
       "    <tr>\n",
       "      <th>2010-07-06</th>\n",
       "      <td>2010-07-06</td>\n",
       "      <td>16.110001</td>\n",
       "    </tr>\n",
       "    <tr>\n",
       "      <th>...</th>\n",
       "      <td>...</td>\n",
       "      <td>...</td>\n",
       "    </tr>\n",
       "    <tr>\n",
       "      <th>2020-01-28</th>\n",
       "      <td>2020-01-28</td>\n",
       "      <td>566.900024</td>\n",
       "    </tr>\n",
       "    <tr>\n",
       "      <th>2020-01-29</th>\n",
       "      <td>2020-01-29</td>\n",
       "      <td>580.989990</td>\n",
       "    </tr>\n",
       "    <tr>\n",
       "      <th>2020-01-30</th>\n",
       "      <td>2020-01-30</td>\n",
       "      <td>640.809998</td>\n",
       "    </tr>\n",
       "    <tr>\n",
       "      <th>2020-01-31</th>\n",
       "      <td>2020-01-31</td>\n",
       "      <td>650.570007</td>\n",
       "    </tr>\n",
       "    <tr>\n",
       "      <th>2020-02-03</th>\n",
       "      <td>2020-02-03</td>\n",
       "      <td>780.000000</td>\n",
       "    </tr>\n",
       "  </tbody>\n",
       "</table>\n",
       "<p>2416 rows × 2 columns</p>\n",
       "</div>"
      ],
      "text/plain": [
       "                 Date       Close\n",
       "Date                             \n",
       "2010-06-29 2010-06-29   23.889999\n",
       "2010-06-30 2010-06-30   23.830000\n",
       "2010-07-01 2010-07-01   21.959999\n",
       "2010-07-02 2010-07-02   19.200001\n",
       "2010-07-06 2010-07-06   16.110001\n",
       "...               ...         ...\n",
       "2020-01-28 2020-01-28  566.900024\n",
       "2020-01-29 2020-01-29  580.989990\n",
       "2020-01-30 2020-01-30  640.809998\n",
       "2020-01-31 2020-01-31  650.570007\n",
       "2020-02-03 2020-02-03  780.000000\n",
       "\n",
       "[2416 rows x 2 columns]"
      ]
     },
     "execution_count": 87,
     "metadata": {},
     "output_type": "execute_result"
    }
   ],
   "source": [
    "tesla_data"
   ]
  },
  {
   "cell_type": "code",
   "execution_count": 88,
   "metadata": {
    "execution": {
     "iopub.execute_input": "2022-10-23T11:49:58.739559Z",
     "iopub.status.busy": "2022-10-23T11:49:58.739206Z",
     "iopub.status.idle": "2022-10-23T11:49:58.749234Z",
     "shell.execute_reply": "2022-10-23T11:49:58.748309Z",
     "shell.execute_reply.started": "2022-10-23T11:49:58.739527Z"
    }
   },
   "outputs": [],
   "source": [
    "tesla_data.drop(\"Date\",axis=1,inplace=True)"
   ]
  },
  {
   "cell_type": "code",
   "execution_count": 89,
   "metadata": {
    "execution": {
     "iopub.execute_input": "2022-10-23T11:49:58.752241Z",
     "iopub.status.busy": "2022-10-23T11:49:58.751295Z",
     "iopub.status.idle": "2022-10-23T11:49:58.775138Z",
     "shell.execute_reply": "2022-10-23T11:49:58.773958Z",
     "shell.execute_reply.started": "2022-10-23T11:49:58.752189Z"
    }
   },
   "outputs": [
    {
     "data": {
      "text/html": [
       "<div>\n",
       "<style scoped>\n",
       "    .dataframe tbody tr th:only-of-type {\n",
       "        vertical-align: middle;\n",
       "    }\n",
       "\n",
       "    .dataframe tbody tr th {\n",
       "        vertical-align: top;\n",
       "    }\n",
       "\n",
       "    .dataframe thead th {\n",
       "        text-align: right;\n",
       "    }\n",
       "</style>\n",
       "<table border=\"1\" class=\"dataframe\">\n",
       "  <thead>\n",
       "    <tr style=\"text-align: right;\">\n",
       "      <th></th>\n",
       "      <th>Close</th>\n",
       "    </tr>\n",
       "    <tr>\n",
       "      <th>Date</th>\n",
       "      <th></th>\n",
       "    </tr>\n",
       "  </thead>\n",
       "  <tbody>\n",
       "    <tr>\n",
       "      <th>2010-06-29</th>\n",
       "      <td>23.889999</td>\n",
       "    </tr>\n",
       "    <tr>\n",
       "      <th>2010-06-30</th>\n",
       "      <td>23.830000</td>\n",
       "    </tr>\n",
       "    <tr>\n",
       "      <th>2010-07-01</th>\n",
       "      <td>21.959999</td>\n",
       "    </tr>\n",
       "    <tr>\n",
       "      <th>2010-07-02</th>\n",
       "      <td>19.200001</td>\n",
       "    </tr>\n",
       "    <tr>\n",
       "      <th>2010-07-06</th>\n",
       "      <td>16.110001</td>\n",
       "    </tr>\n",
       "    <tr>\n",
       "      <th>...</th>\n",
       "      <td>...</td>\n",
       "    </tr>\n",
       "    <tr>\n",
       "      <th>2020-01-28</th>\n",
       "      <td>566.900024</td>\n",
       "    </tr>\n",
       "    <tr>\n",
       "      <th>2020-01-29</th>\n",
       "      <td>580.989990</td>\n",
       "    </tr>\n",
       "    <tr>\n",
       "      <th>2020-01-30</th>\n",
       "      <td>640.809998</td>\n",
       "    </tr>\n",
       "    <tr>\n",
       "      <th>2020-01-31</th>\n",
       "      <td>650.570007</td>\n",
       "    </tr>\n",
       "    <tr>\n",
       "      <th>2020-02-03</th>\n",
       "      <td>780.000000</td>\n",
       "    </tr>\n",
       "  </tbody>\n",
       "</table>\n",
       "<p>2416 rows × 1 columns</p>\n",
       "</div>"
      ],
      "text/plain": [
       "                 Close\n",
       "Date                  \n",
       "2010-06-29   23.889999\n",
       "2010-06-30   23.830000\n",
       "2010-07-01   21.959999\n",
       "2010-07-02   19.200001\n",
       "2010-07-06   16.110001\n",
       "...                ...\n",
       "2020-01-28  566.900024\n",
       "2020-01-29  580.989990\n",
       "2020-01-30  640.809998\n",
       "2020-01-31  650.570007\n",
       "2020-02-03  780.000000\n",
       "\n",
       "[2416 rows x 1 columns]"
      ]
     },
     "execution_count": 89,
     "metadata": {},
     "output_type": "execute_result"
    }
   ],
   "source": [
    "tesla_data"
   ]
  },
  {
   "cell_type": "code",
   "execution_count": 90,
   "metadata": {
    "execution": {
     "iopub.execute_input": "2022-10-23T11:49:58.779067Z",
     "iopub.status.busy": "2022-10-23T11:49:58.778698Z",
     "iopub.status.idle": "2022-10-23T11:49:58.784918Z",
     "shell.execute_reply": "2022-10-23T11:49:58.783485Z",
     "shell.execute_reply.started": "2022-10-23T11:49:58.779034Z"
    }
   },
   "outputs": [],
   "source": [
    "result_data=tesla_data.copy()"
   ]
  },
  {
   "cell_type": "code",
   "execution_count": 91,
   "metadata": {
    "execution": {
     "iopub.execute_input": "2022-10-23T11:49:58.786635Z",
     "iopub.status.busy": "2022-10-23T11:49:58.786282Z",
     "iopub.status.idle": "2022-10-23T11:49:59.115664Z",
     "shell.execute_reply": "2022-10-23T11:49:59.114365Z",
     "shell.execute_reply.started": "2022-10-23T11:49:58.786604Z"
    }
   },
   "outputs": [
    {
     "data": {
      "image/png": "[encoded data removed]",
      "text/plain": [
       "<Figure size 1200x600 with 1 Axes>"
      ]
     },
     "metadata": {},
     "output_type": "display_data"
    }
   ],
   "source": [
    "plt.figure(figsize=(12,6))\n",
    "plt.plot(tesla_data[\"Close\"],color=\"blue\");\n",
    "plt.ylabel(\"Stock Price\")\n",
    "plt.title(\"Tesla Stock Price\")\n",
    "plt.xlabel(\"Time\")\n",
    "plt.show()"
   ]
  },
  {
   "cell_type": "markdown",
   "metadata": {},
   "source": [
    "Seems to decrease between 2011 and 2013 Looks like a boom in late 2019"
   ]
  },
  {
   "cell_type": "markdown",
   "metadata": {},
   "source": [
    "convert to numpy array"
   ]
  },
  {
   "cell_type": "code",
   "execution_count": 92,
   "metadata": {
    "execution": {
     "iopub.execute_input": "2022-10-23T11:49:59.117270Z",
     "iopub.status.busy": "2022-10-23T11:49:59.116883Z",
     "iopub.status.idle": "2022-10-23T11:49:59.122961Z",
     "shell.execute_reply": "2022-10-23T11:49:59.121641Z",
     "shell.execute_reply.started": "2022-10-23T11:49:59.117237Z"
    }
   },
   "outputs": [],
   "source": [
    "tesla_data=tesla_data.values"
   ]
  },
  {
   "cell_type": "code",
   "execution_count": 93,
   "metadata": {
    "execution": {
     "iopub.execute_input": "2022-10-23T11:49:59.124834Z",
     "iopub.status.busy": "2022-10-23T11:49:59.124499Z",
     "iopub.status.idle": "2022-10-23T11:49:59.136860Z",
     "shell.execute_reply": "2022-10-23T11:49:59.135782Z",
     "shell.execute_reply.started": "2022-10-23T11:49:59.124803Z"
    }
   },
   "outputs": [
    {
     "data": {
      "text/plain": [
       "array([[23.889999],\n",
       "       [23.83    ],\n",
       "       [21.959999],\n",
       "       [19.200001],\n",
       "       [16.110001]])"
      ]
     },
     "execution_count": 93,
     "metadata": {},
     "output_type": "execute_result"
    }
   ],
   "source": [
    "tesla_data[0:5]"
   ]
  },
  {
   "cell_type": "markdown",
   "metadata": {},
   "source": [
    "It is necessary to define float 32 for neural network"
   ]
  },
  {
   "cell_type": "code",
   "execution_count": 94,
   "metadata": {
    "execution": {
     "iopub.execute_input": "2022-10-23T11:49:59.138913Z",
     "iopub.status.busy": "2022-10-23T11:49:59.138453Z",
     "iopub.status.idle": "2022-10-23T11:49:59.146902Z",
     "shell.execute_reply": "2022-10-23T11:49:59.145703Z",
     "shell.execute_reply.started": "2022-10-23T11:49:59.138867Z"
    }
   },
   "outputs": [],
   "source": [
    "tesla_data=tesla_data.astype(\"float32\")"
   ]
  },
  {
   "cell_type": "markdown",
   "metadata": {},
   "source": [
    "Let's make the Train-Test distinction as a function"
   ]
  },
  {
   "cell_type": "code",
   "execution_count": 95,
   "metadata": {
    "execution": {
     "iopub.execute_input": "2022-10-23T11:49:59.148887Z",
     "iopub.status.busy": "2022-10-23T11:49:59.147841Z",
     "iopub.status.idle": "2022-10-23T11:49:59.158742Z",
     "shell.execute_reply": "2022-10-23T11:49:59.157765Z",
     "shell.execute_reply.started": "2022-10-23T11:49:59.148850Z"
    }
   },
   "outputs": [],
   "source": [
    "def split_data(dataframe,test_size):\n",
    "    pos=int(round(len(dataframe)*(1-test_size)))\n",
    "    train=dataframe[:pos]\n",
    "    test=dataframe[pos:]\n",
    "    return train,test,pos"
   ]
  },
  {
   "cell_type": "code",
   "execution_count": 96,
   "metadata": {
    "execution": {
     "iopub.execute_input": "2022-10-23T11:49:59.160591Z",
     "iopub.status.busy": "2022-10-23T11:49:59.160049Z",
     "iopub.status.idle": "2022-10-23T11:49:59.169129Z",
     "shell.execute_reply": "2022-10-23T11:49:59.168061Z",
     "shell.execute_reply.started": "2022-10-23T11:49:59.160558Z"
    }
   },
   "outputs": [],
   "source": [
    "train,test,pos=split_data(tesla_data,0.20)"
   ]
  },
  {
   "cell_type": "code",
   "execution_count": 97,
   "metadata": {
    "execution": {
     "iopub.execute_input": "2022-10-23T11:49:59.171271Z",
     "iopub.status.busy": "2022-10-23T11:49:59.170710Z",
     "iopub.status.idle": "2022-10-23T11:49:59.181828Z",
     "shell.execute_reply": "2022-10-23T11:49:59.180497Z",
     "shell.execute_reply.started": "2022-10-23T11:49:59.171237Z"
    }
   },
   "outputs": [
    {
     "name": "stdout",
     "output_type": "stream",
     "text": [
      "(1933, 1) (483, 1)\n"
     ]
    }
   ],
   "source": [
    "print(train.shape,test.shape)"
   ]
  },
  {
   "cell_type": "code",
   "execution_count": 98,
   "metadata": {},
   "outputs": [],
   "source": [
    "from sklearn.preprocessing import MinMaxScaler"
   ]
  },
  {
   "cell_type": "code",
   "execution_count": 99,
   "metadata": {
    "execution": {
     "iopub.execute_input": "2022-10-23T11:49:59.184303Z",
     "iopub.status.busy": "2022-10-23T11:49:59.183607Z",
     "iopub.status.idle": "2022-10-23T11:49:59.191748Z",
     "shell.execute_reply": "2022-10-23T11:49:59.190688Z",
     "shell.execute_reply.started": "2022-10-23T11:49:59.184265Z"
    }
   },
   "outputs": [],
   "source": [
    "scaler_train=MinMaxScaler(feature_range=(0,1))"
   ]
  },
  {
   "cell_type": "code",
   "execution_count": 100,
   "metadata": {
    "execution": {
     "iopub.execute_input": "2022-10-23T11:49:59.198346Z",
     "iopub.status.busy": "2022-10-23T11:49:59.197691Z",
     "iopub.status.idle": "2022-10-23T11:49:59.205617Z",
     "shell.execute_reply": "2022-10-23T11:49:59.204666Z",
     "shell.execute_reply.started": "2022-10-23T11:49:59.198308Z"
    }
   },
   "outputs": [],
   "source": [
    "train=scaler_train.fit_transform(train)"
   ]
  },
  {
   "cell_type": "code",
   "execution_count": 101,
   "metadata": {
    "execution": {
     "iopub.execute_input": "2022-10-23T11:49:59.207818Z",
     "iopub.status.busy": "2022-10-23T11:49:59.207082Z",
     "iopub.status.idle": "2022-10-23T11:49:59.215483Z",
     "shell.execute_reply": "2022-10-23T11:49:59.214580Z",
     "shell.execute_reply.started": "2022-10-23T11:49:59.207773Z"
    }
   },
   "outputs": [],
   "source": [
    "scaler_test=MinMaxScaler(feature_range=(0,1))"
   ]
  },
  {
   "cell_type": "code",
   "execution_count": 102,
   "metadata": {
    "execution": {
     "iopub.execute_input": "2022-10-23T11:49:59.217674Z",
     "iopub.status.busy": "2022-10-23T11:49:59.216959Z",
     "iopub.status.idle": "2022-10-23T11:49:59.227574Z",
     "shell.execute_reply": "2022-10-23T11:49:59.226615Z",
     "shell.execute_reply.started": "2022-10-23T11:49:59.217627Z"
    }
   },
   "outputs": [],
   "source": [
    "test=scaler_test.fit_transform(test)"
   ]
  },
  {
   "cell_type": "code",
   "execution_count": 103,
   "metadata": {
    "execution": {
     "iopub.execute_input": "2022-10-23T11:49:59.229651Z",
     "iopub.status.busy": "2022-10-23T11:49:59.228859Z",
     "iopub.status.idle": "2022-10-23T11:49:59.240786Z",
     "shell.execute_reply": "2022-10-23T11:49:59.239509Z",
     "shell.execute_reply.started": "2022-10-23T11:49:59.229616Z"
    }
   },
   "outputs": [
    {
     "data": {
      "text/plain": [
       "array([[0.02191224],\n",
       "       [0.02174973],\n",
       "       [0.01668472],\n",
       "       [0.0092091 ],\n",
       "       [0.00083966]], dtype=float32)"
      ]
     },
     "execution_count": 103,
     "metadata": {},
     "output_type": "execute_result"
    }
   ],
   "source": [
    "train[0:5]"
   ]
  },
  {
   "cell_type": "code",
   "execution_count": 104,
   "metadata": {
    "execution": {
     "iopub.execute_input": "2022-10-23T11:49:59.243604Z",
     "iopub.status.busy": "2022-10-23T11:49:59.242468Z",
     "iopub.status.idle": "2022-10-23T11:49:59.254431Z",
     "shell.execute_reply": "2022-10-23T11:49:59.253650Z",
     "shell.execute_reply.started": "2022-10-23T11:49:59.243549Z"
    }
   },
   "outputs": [
    {
     "data": {
      "text/plain": [
       "array([[0.25685903],\n",
       "       [0.24829045],\n",
       "       [0.25511202],\n",
       "       [0.24978784],\n",
       "       [0.2465767 ]], dtype=float32)"
      ]
     },
     "execution_count": 104,
     "metadata": {},
     "output_type": "execute_result"
    }
   ],
   "source": [
    "test[0:5]"
   ]
  },
  {
   "cell_type": "code",
   "execution_count": 105,
   "metadata": {
    "execution": {
     "iopub.execute_input": "2022-10-23T11:49:59.256203Z",
     "iopub.status.busy": "2022-10-23T11:49:59.255644Z",
     "iopub.status.idle": "2022-10-23T11:49:59.266894Z",
     "shell.execute_reply": "2022-10-23T11:49:59.265647Z",
     "shell.execute_reply.started": "2022-10-23T11:49:59.256170Z"
    }
   },
   "outputs": [],
   "source": [
    "def create_features(data,lookback):\n",
    "    X,Y=[],[]\n",
    "    for i in range(lookback,len(data)):\n",
    "        X.append(data[i-lookback:i,0])\n",
    "        Y.append(data[i,0])\n",
    "    return np.array(X),np.array(Y)"
   ]
  },
  {
   "cell_type": "code",
   "execution_count": 106,
   "metadata": {
    "execution": {
     "iopub.execute_input": "2022-10-23T11:49:59.268703Z",
     "iopub.status.busy": "2022-10-23T11:49:59.268169Z",
     "iopub.status.idle": "2022-10-23T11:49:59.278626Z",
     "shell.execute_reply": "2022-10-23T11:49:59.277493Z",
     "shell.execute_reply.started": "2022-10-23T11:49:59.268669Z"
    }
   },
   "outputs": [],
   "source": [
    "lookback=20"
   ]
  },
  {
   "cell_type": "code",
   "execution_count": 107,
   "metadata": {
    "execution": {
     "iopub.execute_input": "2022-10-23T11:49:59.280598Z",
     "iopub.status.busy": "2022-10-23T11:49:59.280113Z",
     "iopub.status.idle": "2022-10-23T11:49:59.294004Z",
     "shell.execute_reply": "2022-10-23T11:49:59.292665Z",
     "shell.execute_reply.started": "2022-10-23T11:49:59.280559Z"
    }
   },
   "outputs": [],
   "source": [
    "X_train,y_train=create_features(train,lookback)"
   ]
  },
  {
   "cell_type": "code",
   "execution_count": 108,
   "metadata": {
    "execution": {
     "iopub.execute_input": "2022-10-23T11:49:59.296661Z",
     "iopub.status.busy": "2022-10-23T11:49:59.295903Z",
     "iopub.status.idle": "2022-10-23T11:49:59.304431Z",
     "shell.execute_reply": "2022-10-23T11:49:59.303257Z",
     "shell.execute_reply.started": "2022-10-23T11:49:59.296611Z"
    }
   },
   "outputs": [],
   "source": [
    "X_test,y_test=create_features(test,lookback)"
   ]
  },
  {
   "cell_type": "code",
   "execution_count": 109,
   "metadata": {
    "execution": {
     "iopub.execute_input": "2022-10-23T11:49:59.307246Z",
     "iopub.status.busy": "2022-10-23T11:49:59.305884Z",
     "iopub.status.idle": "2022-10-23T11:49:59.316026Z",
     "shell.execute_reply": "2022-10-23T11:49:59.315087Z",
     "shell.execute_reply.started": "2022-10-23T11:49:59.307199Z"
    }
   },
   "outputs": [
    {
     "name": "stdout",
     "output_type": "stream",
     "text": [
      "(1913, 20) (1913,) (463, 20) (463,)\n"
     ]
    }
   ],
   "source": [
    "print(X_train.shape,y_train.shape,X_test.shape,y_test.shape)"
   ]
  },
  {
   "cell_type": "code",
   "execution_count": 141,
   "metadata": {
    "execution": {
     "iopub.execute_input": "2022-10-23T11:49:59.317716Z",
     "iopub.status.busy": "2022-10-23T11:49:59.317088Z",
     "iopub.status.idle": "2022-10-23T11:49:59.329223Z",
     "shell.execute_reply": "2022-10-23T11:49:59.328058Z",
     "shell.execute_reply.started": "2022-10-23T11:49:59.317581Z"
    }
   },
   "outputs": [
    {
     "data": {
      "text/plain": [
       "array([[[0.02191224, 0.02174973, 0.01668472, 0.0092091 , 0.00083966,\n",
       "         0.        , 0.00449621, 0.00433369, 0.0033857 , 0.00633803,\n",
       "         0.01094258, 0.011078  , 0.01310942, 0.0165493 , 0.01218851,\n",
       "         0.01197183, 0.01408451, 0.01486999, 0.01394908, 0.01286566]],\n",
       "\n",
       "       [[0.02174973, 0.01668472, 0.0092091 , 0.00083966, 0.        ,\n",
       "         0.00449621, 0.00433369, 0.0033857 , 0.00633803, 0.01094258,\n",
       "         0.011078  , 0.01310942, 0.0165493 , 0.01218851, 0.01197183,\n",
       "         0.01408451, 0.01486999, 0.01394908, 0.01286566, 0.01332611]],\n",
       "\n",
       "       [[0.01668472, 0.0092091 , 0.00083966, 0.        , 0.00449621,\n",
       "         0.00433369, 0.0033857 , 0.00633803, 0.01094258, 0.011078  ,\n",
       "         0.01310942, 0.0165493 , 0.01218851, 0.01197183, 0.01408451,\n",
       "         0.01486999, 0.01394908, 0.01286566, 0.01332611, 0.01232395]],\n",
       "\n",
       "       [[0.0092091 , 0.00083966, 0.        , 0.00449621, 0.00433369,\n",
       "         0.0033857 , 0.00633803, 0.01094258, 0.011078  , 0.01310942,\n",
       "         0.0165493 , 0.01218851, 0.01197183, 0.01408451, 0.01486999,\n",
       "         0.01394908, 0.01286566, 0.01332611, 0.01232395, 0.01121344]],\n",
       "\n",
       "       [[0.00083966, 0.        , 0.00449621, 0.00433369, 0.0033857 ,\n",
       "         0.00633803, 0.01094258, 0.011078  , 0.01310942, 0.0165493 ,\n",
       "         0.01218851, 0.01197183, 0.01408451, 0.01486999, 0.01394908,\n",
       "         0.01286566, 0.01332611, 0.01232395, 0.01121344, 0.01386782]]],\n",
       "      dtype=float32)"
      ]
     },
     "execution_count": 141,
     "metadata": {},
     "output_type": "execute_result"
    }
   ],
   "source": [
    "X_train[0:5]"
   ]
  },
  {
   "cell_type": "markdown",
   "metadata": {},
   "source": [
    "### There are 20 features in total here, so we added the day 20 days before the relevant date to the data set."
   ]
  },
  {
   "cell_type": "code",
   "execution_count": 111,
   "metadata": {
    "execution": {
     "iopub.execute_input": "2022-10-23T11:49:59.331663Z",
     "iopub.status.busy": "2022-10-23T11:49:59.331212Z",
     "iopub.status.idle": "2022-10-23T11:49:59.342610Z",
     "shell.execute_reply": "2022-10-23T11:49:59.341356Z",
     "shell.execute_reply.started": "2022-10-23T11:49:59.331620Z"
    }
   },
   "outputs": [
    {
     "data": {
      "text/plain": [
       "array([0.14734703, 0.1796416 , 0.21088794, 0.20020628, 0.18416718],\n",
       "      dtype=float32)"
      ]
     },
     "execution_count": 111,
     "metadata": {},
     "output_type": "execute_result"
    }
   ],
   "source": [
    "y_test[0:5]"
   ]
  },
  {
   "cell_type": "markdown",
   "metadata": {},
   "source": [
    "### stock closing prices"
   ]
  },
  {
   "cell_type": "code",
   "execution_count": 112,
   "metadata": {
    "execution": {
     "iopub.execute_input": "2022-10-23T11:49:59.345033Z",
     "iopub.status.busy": "2022-10-23T11:49:59.344301Z",
     "iopub.status.idle": "2022-10-23T11:49:59.353848Z",
     "shell.execute_reply": "2022-10-23T11:49:59.352588Z",
     "shell.execute_reply.started": "2022-10-23T11:49:59.344996Z"
    }
   },
   "outputs": [],
   "source": [
    "X_train=np.reshape(X_train,(X_train.shape[0],1,X_train.shape[1]))"
   ]
  },
  {
   "cell_type": "code",
   "execution_count": 113,
   "metadata": {
    "execution": {
     "iopub.execute_input": "2022-10-23T11:49:59.356002Z",
     "iopub.status.busy": "2022-10-23T11:49:59.355582Z",
     "iopub.status.idle": "2022-10-23T11:49:59.366167Z",
     "shell.execute_reply": "2022-10-23T11:49:59.364927Z",
     "shell.execute_reply.started": "2022-10-23T11:49:59.355966Z"
    }
   },
   "outputs": [],
   "source": [
    "X_test=np.reshape(X_test,(X_test.shape[0],1,X_test.shape[1]))"
   ]
  },
  {
   "cell_type": "code",
   "execution_count": 114,
   "metadata": {
    "execution": {
     "iopub.execute_input": "2022-10-23T11:49:59.368734Z",
     "iopub.status.busy": "2022-10-23T11:49:59.367604Z",
     "iopub.status.idle": "2022-10-23T11:49:59.379436Z",
     "shell.execute_reply": "2022-10-23T11:49:59.378313Z",
     "shell.execute_reply.started": "2022-10-23T11:49:59.368695Z"
    }
   },
   "outputs": [],
   "source": [
    "y_train=y_train.reshape(-1,1)"
   ]
  },
  {
   "cell_type": "code",
   "execution_count": 115,
   "metadata": {
    "execution": {
     "iopub.execute_input": "2022-10-23T11:49:59.381081Z",
     "iopub.status.busy": "2022-10-23T11:49:59.380573Z",
     "iopub.status.idle": "2022-10-23T11:49:59.390300Z",
     "shell.execute_reply": "2022-10-23T11:49:59.389425Z",
     "shell.execute_reply.started": "2022-10-23T11:49:59.381035Z"
    }
   },
   "outputs": [],
   "source": [
    "y_test=y_test.reshape(-1,1)"
   ]
  },
  {
   "cell_type": "code",
   "execution_count": 116,
   "metadata": {
    "execution": {
     "iopub.execute_input": "2022-10-23T11:49:59.391720Z",
     "iopub.status.busy": "2022-10-23T11:49:59.391352Z",
     "iopub.status.idle": "2022-10-23T11:49:59.404939Z",
     "shell.execute_reply": "2022-10-23T11:49:59.403817Z",
     "shell.execute_reply.started": "2022-10-23T11:49:59.391685Z"
    }
   },
   "outputs": [
    {
     "name": "stdout",
     "output_type": "stream",
     "text": [
      "(1913, 1, 20) (1913, 1) (463, 1, 20) (463, 1)\n"
     ]
    }
   ],
   "source": [
    "print(X_train.shape,y_train.shape,X_test.shape,y_test.shape)"
   ]
  },
  {
   "cell_type": "markdown",
   "metadata": {},
   "source": [
    "# Modeling"
   ]
  },
  {
   "cell_type": "code",
   "execution_count": 117,
   "metadata": {},
   "outputs": [
    {
     "name": "stdout",
     "output_type": "stream",
     "text": [
      "Requirement already satisfied: tensorflow in c:\\users\\hp\\anaconda3\\lib\\site-packages (2.13.0)\n",
      "Requirement already satisfied: tensorflow-intel==2.13.0 in c:\\users\\hp\\anaconda3\\lib\\site-packages (from tensorflow) (2.13.0)\n",
      "Requirement already satisfied: absl-py>=1.0.0 in c:\\users\\hp\\anaconda3\\lib\\site-packages (from tensorflow-intel==2.13.0->tensorflow) (1.4.0)\n",
      "Requirement already satisfied: astunparse>=1.6.0 in c:\\users\\hp\\anaconda3\\lib\\site-packages (from tensorflow-intel==2.13.0->tensorflow) (1.6.3)\n",
      "Requirement already satisfied: flatbuffers>=23.1.21 in c:\\users\\hp\\anaconda3\\lib\\site-packages (from tensorflow-intel==2.13.0->tensorflow) (23.5.26)\n",
      "Requirement already satisfied: gast<=0.4.0,>=0.2.1 in c:\\users\\hp\\anaconda3\\lib\\site-packages (from tensorflow-intel==2.13.0->tensorflow) (0.4.0)\n",
      "Requirement already satisfied: google-pasta>=0.1.1 in c:\\users\\hp\\anaconda3\\lib\\site-packages (from tensorflow-intel==2.13.0->tensorflow) (0.2.0)\n",
      "Requirement already satisfied: h5py>=2.9.0 in c:\\users\\hp\\anaconda3\\lib\\site-packages (from tensorflow-intel==2.13.0->tensorflow) (3.7.0)\n",
      "Requirement already satisfied: libclang>=13.0.0 in c:\\users\\hp\\anaconda3\\lib\\site-packages (from tensorflow-intel==2.13.0->tensorflow) (16.0.6)\n",
      "Requirement already satisfied: numpy<=1.24.3,>=1.22 in c:\\users\\hp\\anaconda3\\lib\\site-packages (from tensorflow-intel==2.13.0->tensorflow) (1.24.3)\n",
      "Requirement already satisfied: opt-einsum>=2.3.2 in c:\\users\\hp\\anaconda3\\lib\\site-packages (from tensorflow-intel==2.13.0->tensorflow) (3.3.0)\n",
      "Requirement already satisfied: packaging in c:\\users\\hp\\anaconda3\\lib\\site-packages (from tensorflow-intel==2.13.0->tensorflow) (23.0)\n",
      "Requirement already satisfied: protobuf!=4.21.0,!=4.21.1,!=4.21.2,!=4.21.3,!=4.21.4,!=4.21.5,<5.0.0dev,>=3.20.3 in c:\\users\\hp\\anaconda3\\lib\\site-packages (from tensorflow-intel==2.13.0->tensorflow) (4.24.3)\n",
      "Requirement already satisfied: setuptools in c:\\users\\hp\\anaconda3\\lib\\site-packages (from tensorflow-intel==2.13.0->tensorflow) (68.0.0)\n",
      "Requirement already satisfied: six>=1.12.0 in c:\\users\\hp\\anaconda3\\lib\\site-packages (from tensorflow-intel==2.13.0->tensorflow) (1.16.0)\n",
      "Requirement already satisfied: termcolor>=1.1.0 in c:\\users\\hp\\anaconda3\\lib\\site-packages (from tensorflow-intel==2.13.0->tensorflow) (2.3.0)\n",
      "Requirement already satisfied: typing-extensions<4.6.0,>=3.6.6 in c:\\users\\hp\\anaconda3\\lib\\site-packages (from tensorflow-intel==2.13.0->tensorflow) (4.5.0)\n",
      "Requirement already satisfied: wrapt>=1.11.0 in c:\\users\\hp\\anaconda3\\lib\\site-packages (from tensorflow-intel==2.13.0->tensorflow) (1.14.1)\n",
      "Requirement already satisfied: grpcio<2.0,>=1.24.3 in c:\\users\\hp\\anaconda3\\lib\\site-packages (from tensorflow-intel==2.13.0->tensorflow) (1.58.0)\n",
      "Requirement already satisfied: tensorboard<2.14,>=2.13 in c:\\users\\hp\\anaconda3\\lib\\site-packages (from tensorflow-intel==2.13.0->tensorflow) (2.13.0)\n",
      "Requirement already satisfied: tensorflow-estimator<2.14,>=2.13.0 in c:\\users\\hp\\anaconda3\\lib\\site-packages (from tensorflow-intel==2.13.0->tensorflow) (2.13.0)\n",
      "Requirement already satisfied: keras<2.14,>=2.13.1 in c:\\users\\hp\\anaconda3\\lib\\site-packages (from tensorflow-intel==2.13.0->tensorflow) (2.13.1)\n",
      "Requirement already satisfied: tensorflow-io-gcs-filesystem>=0.23.1 in c:\\users\\hp\\anaconda3\\lib\\site-packages (from tensorflow-intel==2.13.0->tensorflow) (0.31.0)\n",
      "Requirement already satisfied: wheel<1.0,>=0.23.0 in c:\\users\\hp\\anaconda3\\lib\\site-packages (from astunparse>=1.6.0->tensorflow-intel==2.13.0->tensorflow) (0.38.4)\n",
      "Requirement already satisfied: google-auth<3,>=1.6.3 in c:\\users\\hp\\anaconda3\\lib\\site-packages (from tensorboard<2.14,>=2.13->tensorflow-intel==2.13.0->tensorflow) (2.23.0)\n",
      "Requirement already satisfied: google-auth-oauthlib<1.1,>=0.5 in c:\\users\\hp\\anaconda3\\lib\\site-packages (from tensorboard<2.14,>=2.13->tensorflow-intel==2.13.0->tensorflow) (1.0.0)\n",
      "Requirement already satisfied: markdown>=2.6.8 in c:\\users\\hp\\anaconda3\\lib\\site-packages (from tensorboard<2.14,>=2.13->tensorflow-intel==2.13.0->tensorflow) (3.4.1)\n",
      "Requirement already satisfied: requests<3,>=2.21.0 in c:\\users\\hp\\anaconda3\\lib\\site-packages (from tensorboard<2.14,>=2.13->tensorflow-intel==2.13.0->tensorflow) (2.31.0)\n",
      "Requirement already satisfied: tensorboard-data-server<0.8.0,>=0.7.0 in c:\\users\\hp\\anaconda3\\lib\\site-packages (from tensorboard<2.14,>=2.13->tensorflow-intel==2.13.0->tensorflow) (0.7.1)\n",
      "Requirement already satisfied: werkzeug>=1.0.1 in c:\\users\\hp\\anaconda3\\lib\\site-packages (from tensorboard<2.14,>=2.13->tensorflow-intel==2.13.0->tensorflow) (2.2.3)\n",
      "Requirement already satisfied: cachetools<6.0,>=2.0.0 in c:\\users\\hp\\anaconda3\\lib\\site-packages (from google-auth<3,>=1.6.3->tensorboard<2.14,>=2.13->tensorflow-intel==2.13.0->tensorflow) (5.3.1)\n",
      "Requirement already satisfied: pyasn1-modules>=0.2.1 in c:\\users\\hp\\anaconda3\\lib\\site-packages (from google-auth<3,>=1.6.3->tensorboard<2.14,>=2.13->tensorflow-intel==2.13.0->tensorflow) (0.2.8)\n",
      "Requirement already satisfied: rsa<5,>=3.1.4 in c:\\users\\hp\\anaconda3\\lib\\site-packages (from google-auth<3,>=1.6.3->tensorboard<2.14,>=2.13->tensorflow-intel==2.13.0->tensorflow) (4.9)\n",
      "Requirement already satisfied: urllib3<2.0 in c:\\users\\hp\\anaconda3\\lib\\site-packages (from google-auth<3,>=1.6.3->tensorboard<2.14,>=2.13->tensorflow-intel==2.13.0->tensorflow) (1.26.16)\n",
      "Requirement already satisfied: requests-oauthlib>=0.7.0 in c:\\users\\hp\\anaconda3\\lib\\site-packages (from google-auth-oauthlib<1.1,>=0.5->tensorboard<2.14,>=2.13->tensorflow-intel==2.13.0->tensorflow) (1.3.1)\n",
      "Requirement already satisfied: charset-normalizer<4,>=2 in c:\\users\\hp\\anaconda3\\lib\\site-packages (from requests<3,>=2.21.0->tensorboard<2.14,>=2.13->tensorflow-intel==2.13.0->tensorflow) (2.0.4)\n",
      "Requirement already satisfied: idna<4,>=2.5 in c:\\users\\hp\\anaconda3\\lib\\site-packages (from requests<3,>=2.21.0->tensorboard<2.14,>=2.13->tensorflow-intel==2.13.0->tensorflow) (3.4)\n",
      "Requirement already satisfied: certifi>=2017.4.17 in c:\\users\\hp\\anaconda3\\lib\\site-packages (from requests<3,>=2.21.0->tensorboard<2.14,>=2.13->tensorflow-intel==2.13.0->tensorflow) (2023.7.22)\n",
      "Requirement already satisfied: MarkupSafe>=2.1.1 in c:\\users\\hp\\anaconda3\\lib\\site-packages (from werkzeug>=1.0.1->tensorboard<2.14,>=2.13->tensorflow-intel==2.13.0->tensorflow) (2.1.1)\n",
      "Requirement already satisfied: pyasn1<0.5.0,>=0.4.6 in c:\\users\\hp\\anaconda3\\lib\\site-packages (from pyasn1-modules>=0.2.1->google-auth<3,>=1.6.3->tensorboard<2.14,>=2.13->tensorflow-intel==2.13.0->tensorflow) (0.4.8)\n",
      "Requirement already satisfied: oauthlib>=3.0.0 in c:\\users\\hp\\anaconda3\\lib\\site-packages (from requests-oauthlib>=0.7.0->google-auth-oauthlib<1.1,>=0.5->tensorboard<2.14,>=2.13->tensorflow-intel==2.13.0->tensorflow) (3.2.2)\n",
      "Note: you may need to restart the kernel to use updated packages.\n"
     ]
    }
   ],
   "source": [
    "pip install tensorflow"
   ]
  },
  {
   "cell_type": "code",
   "execution_count": 118,
   "metadata": {},
   "outputs": [],
   "source": [
    "import tensorflow as tf\n",
    "from tensorflow.keras.models import Sequential\n",
    "from tensorflow.keras.layers import Dense, LSTM,Dropout\n",
    "from tensorflow.keras.callbacks import ModelCheckpoint,EarlyStopping"
   ]
  },
  {
   "cell_type": "code",
   "execution_count": 119,
   "metadata": {
    "execution": {
     "iopub.execute_input": "2022-10-23T11:49:59.406673Z",
     "iopub.status.busy": "2022-10-23T11:49:59.406315Z",
     "iopub.status.idle": "2022-10-23T11:49:59.674660Z",
     "shell.execute_reply": "2022-10-23T11:49:59.673313Z",
     "shell.execute_reply.started": "2022-10-23T11:49:59.406642Z"
    }
   },
   "outputs": [],
   "source": [
    "model=Sequential()\n",
    "model.add(LSTM(units=50,\n",
    "              activation=\"relu\",\n",
    "              input_shape=(X_train.shape[1],lookback)))\n",
    "model.add(Dropout(0.2))\n",
    "model.add(Dense(1))"
   ]
  },
  {
   "cell_type": "code",
   "execution_count": 120,
   "metadata": {
    "execution": {
     "iopub.execute_input": "2022-10-23T11:49:59.676483Z",
     "iopub.status.busy": "2022-10-23T11:49:59.676088Z",
     "iopub.status.idle": "2022-10-23T11:49:59.682992Z",
     "shell.execute_reply": "2022-10-23T11:49:59.681569Z",
     "shell.execute_reply.started": "2022-10-23T11:49:59.676438Z"
    }
   },
   "outputs": [
    {
     "name": "stdout",
     "output_type": "stream",
     "text": [
      "Model: \"sequential_1\"\n",
      "_________________________________________________________________\n",
      " Layer (type)                Output Shape              Param #   \n",
      "=================================================================\n",
      " lstm_1 (LSTM)               (None, 50)                14200     \n",
      "                                                                 \n",
      " dropout_1 (Dropout)         (None, 50)                0         \n",
      "                                                                 \n",
      " dense_1 (Dense)             (None, 1)                 51        \n",
      "                                                                 \n",
      "=================================================================\n",
      "Total params: 14251 (55.67 KB)\n",
      "Trainable params: 14251 (55.67 KB)\n",
      "Non-trainable params: 0 (0.00 Byte)\n",
      "_________________________________________________________________\n"
     ]
    }
   ],
   "source": [
    "model.summary()"
   ]
  },
  {
   "cell_type": "markdown",
   "metadata": {},
   "source": [
    "#### Setting optimization and evaluation metrics"
   ]
  },
  {
   "cell_type": "code",
   "execution_count": 121,
   "metadata": {
    "execution": {
     "iopub.execute_input": "2022-10-23T11:49:59.685420Z",
     "iopub.status.busy": "2022-10-23T11:49:59.684932Z",
     "iopub.status.idle": "2022-10-23T11:49:59.706965Z",
     "shell.execute_reply": "2022-10-23T11:49:59.705757Z",
     "shell.execute_reply.started": "2022-10-23T11:49:59.685354Z"
    }
   },
   "outputs": [],
   "source": [
    "model.compile(loss=\"mean_squared_error\",optimizer=\"adam\")"
   ]
  },
  {
   "cell_type": "code",
   "execution_count": 122,
   "metadata": {
    "execution": {
     "iopub.execute_input": "2022-10-23T11:49:59.710171Z",
     "iopub.status.busy": "2022-10-23T11:49:59.709697Z",
     "iopub.status.idle": "2022-10-23T11:49:59.717341Z",
     "shell.execute_reply": "2022-10-23T11:49:59.715983Z",
     "shell.execute_reply.started": "2022-10-23T11:49:59.710124Z"
    }
   },
   "outputs": [],
   "source": [
    "callbacks=[EarlyStopping(monitor=\"val_loss\",patience=3,verbose=1,mode=\"min\"),\n",
    "          ModelCheckpoint(filepath=\"mymodel.h5\",monitor=\"val_loss\",mode=\"min\",\n",
    "                         save_best_only=True,save_weights_only=False,verbose=1)]"
   ]
  },
  {
   "cell_type": "code",
   "execution_count": 123,
   "metadata": {
    "execution": {
     "iopub.execute_input": "2022-10-23T11:49:59.719435Z",
     "iopub.status.busy": "2022-10-23T11:49:59.719067Z",
     "iopub.status.idle": "2022-10-23T11:50:05.847657Z",
     "shell.execute_reply": "2022-10-23T11:50:05.846478Z",
     "shell.execute_reply.started": "2022-10-23T11:49:59.719388Z"
    }
   },
   "outputs": [
    {
     "name": "stdout",
     "output_type": "stream",
     "text": [
      "Epoch 1/100\n",
      "90/96 [===========================>..] - ETA: 0s - loss: 0.0056 \n",
      "Epoch 1: val_loss improved from inf to 0.00373, saving model to mymodel.h5\n",
      "96/96 [==============================] - 5s 12ms/step - loss: 0.0063 - val_loss: 0.0037\n",
      "Epoch 2/100\n",
      "94/96 [============================>.] - ETA: 0s - loss: 0.0052\n",
      "Epoch 2: val_loss improved from 0.00373 to 0.00321, saving model to mymodel.h5\n",
      "96/96 [==============================] - 1s 8ms/step - loss: 0.0054 - val_loss: 0.0032\n",
      "Epoch 3/100\n",
      "89/96 [==========================>...] - ETA: 0s - loss: 0.0040\n",
      "Epoch 3: val_loss improved from 0.00321 to 0.00275, saving model to mymodel.h5\n",
      "96/96 [==============================] - 1s 8ms/step - loss: 0.0044 - val_loss: 0.0028\n",
      "Epoch 4/100\n",
      "93/96 [============================>.] - ETA: 0s - loss: 0.0038 \n",
      "Epoch 4: val_loss improved from 0.00275 to 0.00260, saving model to mymodel.h5\n",
      "96/96 [==============================] - 1s 6ms/step - loss: 0.0040 - val_loss: 0.0026\n",
      "Epoch 5/100\n",
      "89/96 [==========================>...] - ETA: 0s - loss: 0.0035 \n",
      "Epoch 5: val_loss improved from 0.00260 to 0.00246, saving model to mymodel.h5\n",
      "96/96 [==============================] - 1s 7ms/step - loss: 0.0039 - val_loss: 0.0025\n",
      "Epoch 6/100\n",
      "93/96 [============================>.] - ETA: 0s - loss: 0.0036\n",
      "Epoch 6: val_loss improved from 0.00246 to 0.00242, saving model to mymodel.h5\n",
      "96/96 [==============================] - 1s 8ms/step - loss: 0.0037 - val_loss: 0.0024\n",
      "Epoch 7/100\n",
      "96/96 [==============================] - ETA: 0s - loss: 0.0037\n",
      "Epoch 7: val_loss did not improve from 0.00242\n",
      "96/96 [==============================] - 1s 10ms/step - loss: 0.0037 - val_loss: 0.0025\n",
      "Epoch 8/100\n",
      "91/96 [===========================>..] - ETA: 0s - loss: 0.0032 \n",
      "Epoch 8: val_loss improved from 0.00242 to 0.00239, saving model to mymodel.h5\n",
      "96/96 [==============================] - 1s 6ms/step - loss: 0.0036 - val_loss: 0.0024\n",
      "Epoch 9/100\n",
      "96/96 [==============================] - ETA: 0s - loss: 0.0034\n",
      "Epoch 9: val_loss did not improve from 0.00239\n",
      "96/96 [==============================] - 1s 10ms/step - loss: 0.0034 - val_loss: 0.0025\n",
      "Epoch 10/100\n",
      "96/96 [==============================] - ETA: 0s - loss: 0.0033\n",
      "Epoch 10: val_loss did not improve from 0.00239\n",
      "96/96 [==============================] - 1s 11ms/step - loss: 0.0033 - val_loss: 0.0028\n",
      "Epoch 11/100\n",
      "91/96 [===========================>..] - ETA: 0s - loss: 0.0031\n",
      "Epoch 11: val_loss improved from 0.00239 to 0.00203, saving model to mymodel.h5\n",
      "96/96 [==============================] - 1s 11ms/step - loss: 0.0036 - val_loss: 0.0020\n",
      "Epoch 12/100\n",
      "94/96 [============================>.] - ETA: 0s - loss: 0.0038\n",
      "Epoch 12: val_loss did not improve from 0.00203\n",
      "96/96 [==============================] - 1s 12ms/step - loss: 0.0039 - val_loss: 0.0046\n",
      "Epoch 13/100\n",
      "96/96 [==============================] - ETA: 0s - loss: 0.0045\n",
      "Epoch 13: val_loss did not improve from 0.00203\n",
      "96/96 [==============================] - 1s 10ms/step - loss: 0.0045 - val_loss: 0.0056\n",
      "Epoch 14/100\n",
      "94/96 [============================>.] - ETA: 0s - loss: 0.0051\n",
      "Epoch 14: val_loss did not improve from 0.00203\n",
      "96/96 [==============================] - 1s 6ms/step - loss: 0.0052 - val_loss: 0.0115\n",
      "Epoch 14: early stopping\n"
     ]
    }
   ],
   "source": [
    "history = model.fit(x=X_train,\n",
    "                    y=y_train,\n",
    "                    epochs=100,\n",
    "                    batch_size=20,\n",
    "                    validation_data=(X_test,y_test),\n",
    "                    callbacks=callbacks,\n",
    "                    shuffle=False)"
   ]
  },
  {
   "cell_type": "code",
   "execution_count": 124,
   "metadata": {
    "execution": {
     "iopub.execute_input": "2022-10-23T11:50:05.849470Z",
     "iopub.status.busy": "2022-10-23T11:50:05.849102Z",
     "iopub.status.idle": "2022-10-23T11:50:06.099527Z",
     "shell.execute_reply": "2022-10-23T11:50:06.098336Z",
     "shell.execute_reply.started": "2022-10-23T11:50:05.849435Z"
    }
   },
   "outputs": [
    {
     "data": {
      "image/png": "[encoded data removed]",
      "text/plain": [
       "<Figure size 2000x500 with 1 Axes>"
      ]
     },
     "metadata": {},
     "output_type": "display_data"
    }
   ],
   "source": [
    "plt.figure(figsize=(20,5))\n",
    "plt.subplot(1,2,2)\n",
    "plt.plot(history.history[\"loss\"],label=\"Training Loss\")\n",
    "plt.plot(history.history[\"val_loss\"],label=\"Validation Loss\")\n",
    "plt.legend(loc=\"upper right\")\n",
    "plt.xlabel(\"Epoch\",fontsize=16)\n",
    "plt.ylabel(\"Loss\",fontsize=16)\n",
    "plt.ylim([0,max(plt.ylim())])\n",
    "plt.title(\"Training and Validation Loss\",fontsize=16)\n",
    "plt.show()"
   ]
  },
  {
   "cell_type": "markdown",
   "metadata": {},
   "source": [
    "### The expression loss is the mean squared error value, that is, the mean squared expression of the actual values and the estimated values"
   ]
  },
  {
   "cell_type": "markdown",
   "metadata": {},
   "source": [
    "### Evaluation"
   ]
  },
  {
   "cell_type": "code",
   "execution_count": 125,
   "metadata": {
    "execution": {
     "iopub.execute_input": "2022-10-23T11:50:06.101704Z",
     "iopub.status.busy": "2022-10-23T11:50:06.101244Z",
     "iopub.status.idle": "2022-10-23T11:50:06.203581Z",
     "shell.execute_reply": "2022-10-23T11:50:06.202477Z",
     "shell.execute_reply.started": "2022-10-23T11:50:06.101657Z"
    }
   },
   "outputs": [
    {
     "name": "stdout",
     "output_type": "stream",
     "text": [
      "24/24 [==============================] - 0s 4ms/step - loss: 0.0115\n"
     ]
    }
   ],
   "source": [
    "loss=model.evaluate(X_test,y_test,batch_size=20)"
   ]
  },
  {
   "cell_type": "code",
   "execution_count": 126,
   "metadata": {
    "execution": {
     "iopub.execute_input": "2022-10-23T11:50:06.205269Z",
     "iopub.status.busy": "2022-10-23T11:50:06.204938Z",
     "iopub.status.idle": "2022-10-23T11:50:06.211901Z",
     "shell.execute_reply": "2022-10-23T11:50:06.210600Z",
     "shell.execute_reply.started": "2022-10-23T11:50:06.205238Z"
    }
   },
   "outputs": [
    {
     "name": "stdout",
     "output_type": "stream",
     "text": [
      "\n",
      "Test loss:1.1%\n"
     ]
    }
   ],
   "source": [
    "print(\"\\nTest loss:%.1f%%\"%(100.0*loss))"
   ]
  },
  {
   "cell_type": "code",
   "execution_count": 127,
   "metadata": {
    "execution": {
     "iopub.execute_input": "2022-10-23T11:50:06.213842Z",
     "iopub.status.busy": "2022-10-23T11:50:06.213344Z",
     "iopub.status.idle": "2022-10-23T11:50:06.713611Z",
     "shell.execute_reply": "2022-10-23T11:50:06.712675Z",
     "shell.execute_reply.started": "2022-10-23T11:50:06.213794Z"
    }
   },
   "outputs": [
    {
     "name": "stdout",
     "output_type": "stream",
     "text": [
      "60/60 [==============================] - 1s 4ms/step\n",
      "15/15 [==============================] - 0s 4ms/step\n"
     ]
    }
   ],
   "source": [
    "train_predict=model.predict(X_train)\n",
    "test_predict=model.predict(X_test)"
   ]
  },
  {
   "cell_type": "code",
   "execution_count": 128,
   "metadata": {
    "execution": {
     "iopub.execute_input": "2022-10-23T11:50:06.716075Z",
     "iopub.status.busy": "2022-10-23T11:50:06.715317Z",
     "iopub.status.idle": "2022-10-23T11:50:06.723803Z",
     "shell.execute_reply": "2022-10-23T11:50:06.722186Z",
     "shell.execute_reply.started": "2022-10-23T11:50:06.716028Z"
    }
   },
   "outputs": [],
   "source": [
    "train_predict=scaler_train.inverse_transform(train_predict)\n",
    "test_predict=scaler_test.inverse_transform(test_predict)"
   ]
  },
  {
   "cell_type": "code",
   "execution_count": 129,
   "metadata": {
    "execution": {
     "iopub.execute_input": "2022-10-23T11:50:06.731022Z",
     "iopub.status.busy": "2022-10-23T11:50:06.730632Z",
     "iopub.status.idle": "2022-10-23T11:50:06.737566Z",
     "shell.execute_reply": "2022-10-23T11:50:06.736445Z",
     "shell.execute_reply.started": "2022-10-23T11:50:06.730989Z"
    }
   },
   "outputs": [],
   "source": [
    "y_train=scaler_train.inverse_transform(y_train)\n",
    "y_test=scaler_test.inverse_transform(y_test)"
   ]
  },
  {
   "cell_type": "markdown",
   "metadata": {},
   "source": [
    "#### RMSE value to train dataset"
   ]
  },
  {
   "cell_type": "code",
   "execution_count": 130,
   "metadata": {},
   "outputs": [],
   "source": [
    "from sklearn.preprocessing import MinMaxScaler\n",
    "from sklearn.metrics import mean_squared_error"
   ]
  },
  {
   "cell_type": "code",
   "execution_count": 131,
   "metadata": {
    "execution": {
     "iopub.execute_input": "2022-10-23T11:50:06.739281Z",
     "iopub.status.busy": "2022-10-23T11:50:06.738945Z",
     "iopub.status.idle": "2022-10-23T11:50:06.749929Z",
     "shell.execute_reply": "2022-10-23T11:50:06.748778Z",
     "shell.execute_reply.started": "2022-10-23T11:50:06.739241Z"
    }
   },
   "outputs": [],
   "source": [
    "train_rmse=np.sqrt(mean_squared_error(y_train,train_predict))"
   ]
  },
  {
   "cell_type": "code",
   "execution_count": 132,
   "metadata": {
    "execution": {
     "iopub.execute_input": "2022-10-23T11:50:06.752094Z",
     "iopub.status.busy": "2022-10-23T11:50:06.751023Z",
     "iopub.status.idle": "2022-10-23T11:50:06.762333Z",
     "shell.execute_reply": "2022-10-23T11:50:06.761481Z",
     "shell.execute_reply.started": "2022-10-23T11:50:06.752055Z"
    }
   },
   "outputs": [],
   "source": [
    "test_rmse=np.sqrt(mean_squared_error(y_test,test_predict,))"
   ]
  },
  {
   "cell_type": "code",
   "execution_count": 133,
   "metadata": {
    "execution": {
     "iopub.execute_input": "2022-10-23T11:50:06.764076Z",
     "iopub.status.busy": "2022-10-23T11:50:06.763598Z",
     "iopub.status.idle": "2022-10-23T11:50:06.774996Z",
     "shell.execute_reply": "2022-10-23T11:50:06.774207Z",
     "shell.execute_reply.started": "2022-10-23T11:50:06.764044Z"
    }
   },
   "outputs": [
    {
     "name": "stdout",
     "output_type": "stream",
     "text": [
      "Train RMSE:35.139915466308594\n",
      "Test RMSE:64.3306884765625\n"
     ]
    }
   ],
   "source": [
    "print(f\"Train RMSE:{train_rmse}\")\n",
    "print(f\"Test RMSE:{test_rmse}\")"
   ]
  },
  {
   "cell_type": "markdown",
   "metadata": {},
   "source": [
    "#### The mistake that tesla will be made in the next period is 32 dollars"
   ]
  },
  {
   "cell_type": "code",
   "execution_count": 134,
   "metadata": {
    "execution": {
     "iopub.execute_input": "2022-10-23T11:50:06.776692Z",
     "iopub.status.busy": "2022-10-23T11:50:06.776172Z",
     "iopub.status.idle": "2022-10-23T11:50:06.785356Z",
     "shell.execute_reply": "2022-10-23T11:50:06.784488Z",
     "shell.execute_reply.started": "2022-10-23T11:50:06.776660Z"
    }
   },
   "outputs": [],
   "source": [
    "train_prediction_data=result_data[lookback:pos]"
   ]
  },
  {
   "cell_type": "code",
   "execution_count": 135,
   "metadata": {
    "execution": {
     "iopub.execute_input": "2022-10-23T11:50:06.787640Z",
     "iopub.status.busy": "2022-10-23T11:50:06.786791Z",
     "iopub.status.idle": "2022-10-23T11:50:06.803887Z",
     "shell.execute_reply": "2022-10-23T11:50:06.802787Z",
     "shell.execute_reply.started": "2022-10-23T11:50:06.787604Z"
    }
   },
   "outputs": [],
   "source": [
    "train_prediction_data[\"Predicted\"]=train_predict"
   ]
  },
  {
   "cell_type": "code",
   "execution_count": 136,
   "metadata": {
    "execution": {
     "iopub.execute_input": "2022-10-23T11:50:06.805947Z",
     "iopub.status.busy": "2022-10-23T11:50:06.805339Z",
     "iopub.status.idle": "2022-10-23T11:50:06.816548Z",
     "shell.execute_reply": "2022-10-23T11:50:06.815641Z",
     "shell.execute_reply.started": "2022-10-23T11:50:06.805909Z"
    }
   },
   "outputs": [
    {
     "data": {
      "text/html": [
       "<div>\n",
       "<style scoped>\n",
       "    .dataframe tbody tr th:only-of-type {\n",
       "        vertical-align: middle;\n",
       "    }\n",
       "\n",
       "    .dataframe tbody tr th {\n",
       "        vertical-align: top;\n",
       "    }\n",
       "\n",
       "    .dataframe thead th {\n",
       "        text-align: right;\n",
       "    }\n",
       "</style>\n",
       "<table border=\"1\" class=\"dataframe\">\n",
       "  <thead>\n",
       "    <tr style=\"text-align: right;\">\n",
       "      <th></th>\n",
       "      <th>Close</th>\n",
       "      <th>Predicted</th>\n",
       "    </tr>\n",
       "    <tr>\n",
       "      <th>Date</th>\n",
       "      <th></th>\n",
       "      <th></th>\n",
       "    </tr>\n",
       "  </thead>\n",
       "  <tbody>\n",
       "    <tr>\n",
       "      <th>2010-07-28</th>\n",
       "      <td>20.719999</td>\n",
       "      <td>41.564911</td>\n",
       "    </tr>\n",
       "    <tr>\n",
       "      <th>2010-07-29</th>\n",
       "      <td>20.350000</td>\n",
       "      <td>41.623459</td>\n",
       "    </tr>\n",
       "    <tr>\n",
       "      <th>2010-07-30</th>\n",
       "      <td>19.940001</td>\n",
       "      <td>41.774609</td>\n",
       "    </tr>\n",
       "    <tr>\n",
       "      <th>2010-08-02</th>\n",
       "      <td>20.920000</td>\n",
       "      <td>41.822037</td>\n",
       "    </tr>\n",
       "    <tr>\n",
       "      <th>2010-08-03</th>\n",
       "      <td>21.950001</td>\n",
       "      <td>41.754669</td>\n",
       "    </tr>\n",
       "  </tbody>\n",
       "</table>\n",
       "</div>"
      ],
      "text/plain": [
       "                Close  Predicted\n",
       "Date                            \n",
       "2010-07-28  20.719999  41.564911\n",
       "2010-07-29  20.350000  41.623459\n",
       "2010-07-30  19.940001  41.774609\n",
       "2010-08-02  20.920000  41.822037\n",
       "2010-08-03  21.950001  41.754669"
      ]
     },
     "execution_count": 136,
     "metadata": {},
     "output_type": "execute_result"
    }
   ],
   "source": [
    "train_prediction_data.head()"
   ]
  },
  {
   "cell_type": "code",
   "execution_count": 137,
   "metadata": {
    "execution": {
     "iopub.execute_input": "2022-10-23T11:50:06.818954Z",
     "iopub.status.busy": "2022-10-23T11:50:06.817891Z",
     "iopub.status.idle": "2022-10-23T11:50:06.828331Z",
     "shell.execute_reply": "2022-10-23T11:50:06.827277Z",
     "shell.execute_reply.started": "2022-10-23T11:50:06.818919Z"
    }
   },
   "outputs": [],
   "source": [
    "test_prediction_data=result_data[pos+lookback:]"
   ]
  },
  {
   "cell_type": "code",
   "execution_count": 138,
   "metadata": {
    "execution": {
     "iopub.execute_input": "2022-10-23T11:50:06.830527Z",
     "iopub.status.busy": "2022-10-23T11:50:06.829859Z",
     "iopub.status.idle": "2022-10-23T11:50:06.842761Z",
     "shell.execute_reply": "2022-10-23T11:50:06.841800Z",
     "shell.execute_reply.started": "2022-10-23T11:50:06.830489Z"
    }
   },
   "outputs": [],
   "source": [
    "test_prediction_data[\"Predicted\"]=test_predict"
   ]
  },
  {
   "cell_type": "code",
   "execution_count": 139,
   "metadata": {
    "execution": {
     "iopub.execute_input": "2022-10-23T11:50:06.844988Z",
     "iopub.status.busy": "2022-10-23T11:50:06.844356Z",
     "iopub.status.idle": "2022-10-23T11:50:06.863464Z",
     "shell.execute_reply": "2022-10-23T11:50:06.862213Z",
     "shell.execute_reply.started": "2022-10-23T11:50:06.844953Z"
    }
   },
   "outputs": [
    {
     "data": {
      "text/html": [
       "<div>\n",
       "<style scoped>\n",
       "    .dataframe tbody tr th:only-of-type {\n",
       "        vertical-align: middle;\n",
       "    }\n",
       "\n",
       "    .dataframe tbody tr th {\n",
       "        vertical-align: top;\n",
       "    }\n",
       "\n",
       "    .dataframe thead th {\n",
       "        text-align: right;\n",
       "    }\n",
       "</style>\n",
       "<table border=\"1\" class=\"dataframe\">\n",
       "  <thead>\n",
       "    <tr style=\"text-align: right;\">\n",
       "      <th></th>\n",
       "      <th>Close</th>\n",
       "      <th>Predicted</th>\n",
       "    </tr>\n",
       "    <tr>\n",
       "      <th>Date</th>\n",
       "      <th></th>\n",
       "      <th></th>\n",
       "    </tr>\n",
       "  </thead>\n",
       "  <tbody>\n",
       "    <tr>\n",
       "      <th>2018-04-03</th>\n",
       "      <td>267.529999</td>\n",
       "      <td>363.269104</td>\n",
       "    </tr>\n",
       "    <tr>\n",
       "      <th>2018-04-04</th>\n",
       "      <td>286.940002</td>\n",
       "      <td>357.895691</td>\n",
       "    </tr>\n",
       "    <tr>\n",
       "      <th>2018-04-05</th>\n",
       "      <td>305.720001</td>\n",
       "      <td>357.241577</td>\n",
       "    </tr>\n",
       "    <tr>\n",
       "      <th>2018-04-06</th>\n",
       "      <td>299.299988</td>\n",
       "      <td>356.773529</td>\n",
       "    </tr>\n",
       "    <tr>\n",
       "      <th>2018-04-09</th>\n",
       "      <td>289.660004</td>\n",
       "      <td>356.868927</td>\n",
       "    </tr>\n",
       "  </tbody>\n",
       "</table>\n",
       "</div>"
      ],
      "text/plain": [
       "                 Close   Predicted\n",
       "Date                              \n",
       "2018-04-03  267.529999  363.269104\n",
       "2018-04-04  286.940002  357.895691\n",
       "2018-04-05  305.720001  357.241577\n",
       "2018-04-06  299.299988  356.773529\n",
       "2018-04-09  289.660004  356.868927"
      ]
     },
     "execution_count": 139,
     "metadata": {},
     "output_type": "execute_result"
    }
   ],
   "source": [
    "test_prediction_data.head()"
   ]
  },
  {
   "cell_type": "code",
   "execution_count": 140,
   "metadata": {
    "execution": {
     "iopub.execute_input": "2022-10-23T11:50:06.865491Z",
     "iopub.status.busy": "2022-10-23T11:50:06.865132Z",
     "iopub.status.idle": "2022-10-23T11:50:07.195058Z",
     "shell.execute_reply": "2022-10-23T11:50:07.193889Z",
     "shell.execute_reply.started": "2022-10-23T11:50:06.865459Z"
    }
   },
   "outputs": [
    {
     "data": {
      "image/png": "[encoded data removed]",
      "text/plain": [
       "<Figure size 1400x500 with 1 Axes>"
      ]
     },
     "metadata": {},
     "output_type": "display_data"
    }
   ],
   "source": [
    "plt.figure(figsize=(14,5))\n",
    "plt.plot(result_data,label=\"Real Values\")\n",
    "plt.plot(train_prediction_data[\"Predicted\"],color=\"blue\",label=\"Train Predicted\")\n",
    "plt.plot(test_prediction_data[\"Predicted\"],color=\"red\",label=\"Test Predicted\")\n",
    "plt.xlabel(\"Time\")\n",
    "plt.ylabel(\"Stock Values\")\n",
    "plt.legend()\n",
    "plt.show()"
   ]
  },
  {
   "cell_type": "markdown",
   "metadata": {},
   "source": [
    "### If we forecast in a certain period, we will conclude that we forecast 32 below or 32 above"
   ]
  }
 ],
 "metadata": {
  "kernelspec": {
   "display_name": "Python 3 (ipykernel)",
   "language": "python",
   "name": "python3"
  },
  "language_info": {
   "codemirror_mode": {
    "name": "ipython",
    "version": 3
   },
   "file_extension": ".py",
   "mimetype": "text/x-python",
   "name": "python",
   "nbconvert_exporter": "python",
   "pygments_lexer": "ipython3",
   "version": "3.11.4"
  }
 },
 "nbformat": 4,
 "nbformat_minor": 4
}
